{
 "cells": [
  {
   "cell_type": "code",
   "execution_count": 9,
   "id": "2a40beea-9d1a-461e-8c81-35b4e42d5ee5",
   "metadata": {},
   "outputs": [
    {
     "name": "stdout",
     "output_type": "stream",
     "text": [
      " * Serving Flask app '__main__'\n",
      " * Debug mode: on\n"
     ]
    },
    {
     "name": "stderr",
     "output_type": "stream",
     "text": [
      "WARNING: This is a development server. Do not use it in a production deployment. Use a production WSGI server instead.\n",
      " * Running on http://127.0.0.1:5000\n",
      "Press CTRL+C to quit\n",
      "127.0.0.1 - - [26/Oct/2024 16:10:05] \"GET / HTTP/1.1\" 200 -\n",
      "127.0.0.1 - - [26/Oct/2024 16:10:05] \"GET /static/camera.js HTTP/1.1\" 304 -\n",
      "127.0.0.1 - - [26/Oct/2024 16:10:48] \"POST /caption HTTP/1.1\" 200 -\n"
     ]
    }
   ],
   "source": [
    "from flask import Flask, request, render_template, jsonify\n",
    "from PIL import Image\n",
    "from transformers import BlipProcessor, BlipForConditionalGeneration\n",
    "import torch\n",
    "import base64\n",
    "from io import BytesIO\n",
    "\n",
    "# Create the Flask app\n",
    "app = Flask(__name__)\n",
    "\n",
    "# Load the processor and model\n",
    "processor = BlipProcessor.from_pretrained(\"Salesforce/blip-image-captioning-base\")\n",
    "model = BlipForConditionalGeneration.from_pretrained(\"Salesforce/blip-image-captioning-base\")\n",
    "\n",
    "# Define the home route\n",
    "@app.route('/')\n",
    "def home():\n",
    "    return render_template('index.html')\n",
    "\n",
    "# Define the caption route\n",
    "@app.route('/caption', methods=['POST'])\n",
    "def caption():\n",
    "    if 'file' in request.files:  # For file uploads\n",
    "        file = request.files['file']\n",
    "        if file.filename == '':\n",
    "            return jsonify({\"error\": \"No selected file\"}), 400\n",
    "        \n",
    "        # Process the image from file upload\n",
    "        image = Image.open(file.stream).convert(\"RGB\")\n",
    "        \n",
    "    elif request.is_json:  # For JSON data from camera capture\n",
    "        data = request.get_json()\n",
    "        image_data = data.get('image')\n",
    "        if not image_data:\n",
    "            return jsonify({\"error\": \"No image provided\"}), 400\n",
    "\n",
    "        # Decode the base64 image\n",
    "        image_data = image_data.split(',')[1]  # Remove the data:image/png;base64, part\n",
    "        image = Image.open(BytesIO(base64.b64decode(image_data))).convert(\"RGB\")\n",
    "        \n",
    "    else:\n",
    "        return jsonify({\"error\": \"Invalid request format\"}), 400\n",
    "\n",
    "    # Generate caption\n",
    "    inputs = processor(images=image, return_tensors=\"pt\")\n",
    "    with torch.no_grad():\n",
    "        outputs = model.generate(**inputs)\n",
    "    caption = processor.decode(outputs[0], skip_special_tokens=True)\n",
    "\n",
    "    return jsonify({\"caption\": caption})\n",
    "\n",
    "if __name__ == '__main__':\n",
    "    app.run(debug=True, use_reloader=False)\n"
   ]
  },
  {
   "cell_type": "code",
   "execution_count": null,
   "id": "f20e3654-4b49-4fcd-b695-ce2fc16de709",
   "metadata": {},
   "outputs": [],
   "source": []
  }
 ],
 "metadata": {
  "kernelspec": {
   "display_name": "Python 3 (ipykernel)",
   "language": "python",
   "name": "python3"
  },
  "language_info": {
   "codemirror_mode": {
    "name": "ipython",
    "version": 3
   },
   "file_extension": ".py",
   "mimetype": "text/x-python",
   "name": "python",
   "nbconvert_exporter": "python",
   "pygments_lexer": "ipython3",
   "version": "3.8.19"
  }
 },
 "nbformat": 4,
 "nbformat_minor": 5
}
